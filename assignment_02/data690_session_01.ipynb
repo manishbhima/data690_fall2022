{
  "nbformat": 4,
  "nbformat_minor": 0,
  "metadata": {
    "colab": {
      "provenance": [],
      "authorship_tag": "ABX9TyMHOK99P0yNy4VUZOm8/Df2",
      "include_colab_link": true
    },
    "kernelspec": {
      "name": "python3",
      "display_name": "Python 3"
    },
    "language_info": {
      "name": "python"
    }
  },
  "cells": [
    {
      "cell_type": "markdown",
      "metadata": {
        "id": "view-in-github",
        "colab_type": "text"
      },
      "source": [
        "<a href=\"https://colab.research.google.com/github/manishbhima/data690_fall2022/blob/main/assignment_02/data690_session_01.ipynb\" target=\"_parent\"><img src=\"https://colab.research.google.com/assets/colab-badge.svg\" alt=\"Open In Colab\"/></a>"
      ]
    },
    {
      "cell_type": "code",
      "execution_count": null,
      "metadata": {
        "id": "GNn3pFnpuPZI"
      },
      "outputs": [],
      "source": []
    },
    {
      "cell_type": "markdown",
      "source": [
        "# Data 690 session 01\n",
        "\n",
        "This is the notebook for in-class practice.\n",
        "\n",
        "- Name : *MB*\n",
        "\n",
        "- Date: *09/01/2022"
      ],
      "metadata": {
        "id": "EPwgLWRVuQg_"
      }
    },
    {
      "cell_type": "code",
      "source": [],
      "metadata": {
        "id": "gaZCguphuXkv"
      },
      "execution_count": null,
      "outputs": []
    }
  ]
}