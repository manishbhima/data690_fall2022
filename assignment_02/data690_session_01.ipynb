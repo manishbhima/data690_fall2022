{
  "nbformat": 4,
  "nbformat_minor": 0,
  "metadata": {
    "colab": {
      "provenance": [],
      "authorship_tag": "ABX9TyOhx2hfPU4H3CZtiln+puXC",
      "include_colab_link": true
    },
    "kernelspec": {
      "name": "python3",
      "display_name": "Python 3"
    },
    "language_info": {
      "name": "python"
    }
  },
  "cells": [
    {
      "cell_type": "markdown",
      "metadata": {
        "id": "view-in-github",
        "colab_type": "text"
      },
      "source": [
        "<a href=\"https://colab.research.google.com/github/manishbhima/data690_fall2022/blob/main/assignment_02/data690_session_01.ipynb\" target=\"_parent\"><img src=\"https://colab.research.google.com/assets/colab-badge.svg\" alt=\"Open In Colab\"/></a>"
      ]
    },
    {
      "cell_type": "code",
      "execution_count": null,
      "metadata": {
        "id": "GNn3pFnpuPZI"
      },
      "outputs": [],
      "source": []
    },
    {
      "cell_type": "markdown",
      "source": [
        "# Data 690 session 01\n",
        "\n",
        "This is the notebook for in-class practice.\n",
        "\n",
        "- Name : *MB*\n",
        "\n",
        "- Date: *09/01/2022*"
      ],
      "metadata": {
        "id": "EPwgLWRVuQg_"
      }
    },
    {
      "cell_type": "code",
      "source": [
        " age = 23\n",
        " name = \"MB\"\n",
        " print(\"my name is \"  +name + \", \" + \"age is \", age)\n"
      ],
      "metadata": {
        "colab": {
          "base_uri": "https://localhost:8080/"
        },
        "id": "gaZCguphuXkv",
        "outputId": "cfc25d17-f055-4e06-9031-b03871ba5024"
      },
      "execution_count": 6,
      "outputs": [
        {
          "output_type": "stream",
          "name": "stdout",
          "text": [
            "my name is MB, age is  23\n"
          ]
        }
      ]
    },
    {
      "cell_type": "code",
      "source": [],
      "metadata": {
        "id": "nERL3l_wwYGr"
      },
      "execution_count": null,
      "outputs": []
    }
  ]
}